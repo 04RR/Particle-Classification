{
  "nbformat": 4,
  "nbformat_minor": 0,
  "metadata": {
    "colab": {
      "name": "ParticleImageClassification.ipynb",
      "provenance": [],
      "collapsed_sections": []
    },
    "kernelspec": {
      "name": "python3",
      "display_name": "Python 3"
    },
    "accelerator": "GPU"
  },
  "cells": [
    {
      "cell_type": "code",
      "metadata": {
        "id": "OpGGj5nxcCt4"
      },
      "source": [
        "mkdir Particle_images"
      ],
      "execution_count": null,
      "outputs": []
    },
    {
      "cell_type": "code",
      "metadata": {
        "id": "l_76XXk2cCqu",
        "colab": {
          "base_uri": "https://localhost:8080/"
        },
        "outputId": "3ce9dcdd-0ec7-4be8-b504-c838d1062061"
      },
      "source": [
        "cd Particle_images"
      ],
      "execution_count": null,
      "outputs": [
        {
          "output_type": "stream",
          "text": [
            "/content/Particle_images\n"
          ],
          "name": "stdout"
        }
      ]
    },
    {
      "cell_type": "code",
      "metadata": {
        "id": "q6qSPvr4cCoP"
      },
      "source": [
        "mkdir data"
      ],
      "execution_count": null,
      "outputs": []
    },
    {
      "cell_type": "code",
      "metadata": {
        "id": "WrGZQUPYcClL",
        "colab": {
          "base_uri": "https://localhost:8080/"
        },
        "outputId": "5633c058-91a4-4f70-aa23-91ebce0d0f55"
      },
      "source": [
        "!wget https://cernbox.cern.ch/index.php/s/sHjzCNFTFxutYCj/download -O data/SingleElectronPt50_IMGCROPS_n249k_RHv1.hdf5\n",
        "!wget https://cernbox.cern.ch/index.php/s/69nGEZjOy3xGxBq/download -O data/SinglePhotonPt50_IMGCROPS_n249k_RHv1.hdf5"
      ],
      "execution_count": null,
      "outputs": [
        {
          "output_type": "stream",
          "text": [
            "--2020-10-30 19:30:10--  https://cernbox.cern.ch/index.php/s/sHjzCNFTFxutYCj/download\n",
            "Resolving cernbox.cern.ch (cernbox.cern.ch)... 188.184.97.72, 137.138.120.151, 128.142.32.26, ...\n",
            "Connecting to cernbox.cern.ch (cernbox.cern.ch)|188.184.97.72|:443... connected.\n",
            "HTTP request sent, awaiting response... 200 OK\n",
            "Length: 87010508 (83M) [application/octet-stream]\n",
            "Saving to: ‘data/SingleElectronPt50_IMGCROPS_n249k_RHv1.hdf5’\n",
            "\n",
            "data/SingleElectron 100%[===================>]  82.98M  18.9MB/s    in 5.5s    \n",
            "\n",
            "Last-modified header invalid -- time-stamp ignored.\n",
            "2020-10-30 19:30:18 (15.2 MB/s) - ‘data/SingleElectronPt50_IMGCROPS_n249k_RHv1.hdf5’ saved [87010508/87010508]\n",
            "\n",
            "--2020-10-30 19:30:18--  https://cernbox.cern.ch/index.php/s/69nGEZjOy3xGxBq/download\n",
            "Resolving cernbox.cern.ch (cernbox.cern.ch)... 137.138.120.151, 128.142.32.26, 128.142.32.38, ...\n",
            "Connecting to cernbox.cern.ch (cernbox.cern.ch)|137.138.120.151|:443... connected.\n",
            "HTTP request sent, awaiting response... 200 OK\n",
            "Length: 79876391 (76M) [application/octet-stream]\n",
            "Saving to: ‘data/SinglePhotonPt50_IMGCROPS_n249k_RHv1.hdf5’\n",
            "\n",
            "data/SinglePhotonPt 100%[===================>]  76.18M  10.3MB/s    in 8.2s    \n",
            "\n",
            "Last-modified header invalid -- time-stamp ignored.\n",
            "2020-10-30 19:30:28 (9.30 MB/s) - ‘data/SinglePhotonPt50_IMGCROPS_n249k_RHv1.hdf5’ saved [79876391/79876391]\n",
            "\n"
          ],
          "name": "stdout"
        }
      ]
    },
    {
      "cell_type": "markdown",
      "metadata": {
        "id": "uXByb2-i1K37"
      },
      "source": [
        "Creating DataLoaders for PyTorch"
      ]
    },
    {
      "cell_type": "code",
      "metadata": {
        "id": "MwPS8eJ0tRtK",
        "colab": {
          "base_uri": "https://localhost:8080/"
        },
        "outputId": "814faed3-efb6-43f8-bd5f-757d0f72d8a2"
      },
      "source": [
        "from torch.utils.data import Dataset, DataLoader\n",
        "from PIL import Image\n",
        "import torchvision.transforms as transforms\n",
        "import torch\n",
        "import h5py\n",
        "import numpy as np\n",
        " \n",
        "def load_data(decays):\n",
        "    dsets = [h5py.File('%s'%(decay)) for decay in decays]\n",
        "    X = np.concatenate([dset['/X'] for dset in dsets])\n",
        "    y = np.concatenate([dset['/y'] for dset in dsets])\n",
        "    assert len(X) == len(y)\n",
        "    return X, y\n",
        " \n",
        "paths = [r'/content/Particle_images/data/SingleElectronPt50_IMGCROPS_n249k_RHv1.hdf5', r'/content/Particle_images/data/SinglePhotonPt50_IMGCROPS_n249k_RHv1.hdf5']\n",
        "X, y = load_data(paths)"
      ],
      "execution_count": null,
      "outputs": [
        {
          "output_type": "stream",
          "text": [
            "/usr/local/lib/python3.6/dist-packages/ipykernel_launcher.py:9: H5pyDeprecationWarning: The default file mode will change to 'r' (read-only) in h5py 3.0. To suppress this warning, pass the mode you need to h5py.File(), or set the global default h5.get_config().default_file_mode, or set the environment variable H5PY_DEFAULT_READONLY=1. Available modes are: 'r', 'r+', 'w', 'w-'/'x', 'a'. See the docs for details.\n",
            "  if __name__ == '__main__':\n"
          ],
          "name": "stderr"
        }
      ]
    },
    {
      "cell_type": "code",
      "metadata": {
        "id": "jKlfp9o_uHHa"
      },
      "source": [
        "## Custom Dataset\n",
        "\n",
        "class ImgDataset(Dataset):\n",
        "    def __init__(self, images, labels):\n",
        "        self.labels = labels\n",
        "        self.images = images\n",
        "\n",
        "    def __len__(self):\n",
        "        return len(self.labels)\n",
        "\n",
        "    def __getitem__(self, idx):\n",
        "        images = self.images[idx, :, :, :]\n",
        "        labels = self.labels[idx]\n",
        "        sample = [torch.from_numpy(images).reshape(2, 32, 32), torch.tensor(labels)]\n",
        "        return sample"
      ],
      "execution_count": null,
      "outputs": []
    },
    {
      "cell_type": "code",
      "metadata": {
        "id": "kdAXiZvluMfz",
        "colab": {
          "base_uri": "https://localhost:8080/"
        },
        "outputId": "b45be1f8-f517-4958-9cc8-ef374342342e"
      },
      "source": [
        "dataset = ImgDataset(X, y)\n",
        "dataset[0][0].shape"
      ],
      "execution_count": null,
      "outputs": [
        {
          "output_type": "execute_result",
          "data": {
            "text/plain": [
              "torch.Size([2, 32, 32])"
            ]
          },
          "metadata": {
            "tags": []
          },
          "execution_count": 9
        }
      ]
    },
    {
      "cell_type": "code",
      "metadata": {
        "id": "Z9s0Ook5Xiwi"
      },
      "source": [
        "trainset, testset = torch.utils.data.random_split(dataset, [400000, 23300])\n",
        "testset, valset = torch.utils.data.random_split(testset, [11650, 11650])"
      ],
      "execution_count": null,
      "outputs": []
    },
    {
      "cell_type": "code",
      "metadata": {
        "id": "45HLKcsJXjHV"
      },
      "source": [
        "## Creating Dataloaders \n",
        "\n",
        "train_dl = DataLoader(trainset, batch_size= 1024, shuffle= True, num_workers= 4, pin_memory=True)\n",
        "test_dl = DataLoader(testset, batch_size= 1024, shuffle= True, num_workers= 4, pin_memory=True)\n",
        "val_dl = DataLoader(valset, batch_size= 1024, shuffle= True, num_workers= 4, pin_memory=True)"
      ],
      "execution_count": null,
      "outputs": []
    },
    {
      "cell_type": "code",
      "metadata": {
        "id": "_zNZwVN4w1D2"
      },
      "source": [
        "## Helper functions to help use cuda for training\n",
        "\n",
        "if torch.cuda.is_available():\n",
        "    device = torch.device('cuda')\n",
        "else:\n",
        "    device = torch.device('cpu')\n",
        "\n",
        "def to_device(data, device):\n",
        "    \"\"\"Move tensor(s) to chosen device\"\"\"\n",
        "    if isinstance(data, (list,tuple)):\n",
        "        return [to_device(x, device) for x in data]\n",
        "    return data.to(device, non_blocking=True)\n",
        "\n",
        "class DeviceDataLoader():\n",
        "    \"\"\"Wrap a dataloader to move data to a device\"\"\"\n",
        "    def __init__(self, dl, device):\n",
        "        self.dl = dl\n",
        "        self.device = device\n",
        "        \n",
        "    def __iter__(self):\n",
        "        \"\"\"Yield a batch of data after moving it to device\"\"\"\n",
        "        for b in self.dl: \n",
        "            yield to_device(b, self.device)\n",
        "\n",
        "    def __len__(self):\n",
        "        \"\"\"Number of batches\"\"\"\n",
        "        return len(self.dl)"
      ],
      "execution_count": null,
      "outputs": []
    },
    {
      "cell_type": "code",
      "metadata": {
        "id": "_o_8UxyIxE-P"
      },
      "source": [
        "## Wrapping the DataLoader to add GPU support\n",
        "\n",
        "train_dl = DeviceDataLoader(train_dl, device)\n",
        "test_dl = DeviceDataLoader(test_dl, device)\n",
        "val_dl = DeviceDataLoader(val_dl, device)"
      ],
      "execution_count": null,
      "outputs": []
    },
    {
      "cell_type": "code",
      "metadata": {
        "id": "DWkWfM59TlWH"
      },
      "source": [
        "import torchvision\n",
        "import torch.nn as nn\n",
        "import torch.nn.functional as F"
      ],
      "execution_count": null,
      "outputs": []
    },
    {
      "cell_type": "markdown",
      "metadata": {
        "id": "ZYO37sHp1nX1"
      },
      "source": [
        "# Model:"
      ]
    },
    {
      "cell_type": "code",
      "metadata": {
        "id": "_LNePC-USMpm",
        "colab": {
          "base_uri": "https://localhost:8080/"
        },
        "outputId": "7c2fba92-583a-4cdf-d261-40a3f5e27afa"
      },
      "source": [
        "import torch.nn as nn\n",
        "\n",
        "class LeNet(nn.Module):\n",
        "    def __init__(self):\n",
        "        super().__init__()\n",
        "        self.network = nn.Sequential(\n",
        "\n",
        "            nn.Conv2d(2, 32, kernel_size=5),\n",
        "            nn.BatchNorm2d(32),\n",
        "            # nn.Dropout(0.2),\n",
        "            nn.LeakyReLU(),\n",
        "            nn.MaxPool2d(kernel_size=2, stride=2),\n",
        "\n",
        "            nn.Conv2d(32, 64, kernel_size=5),\n",
        "            nn.BatchNorm2d(64),\n",
        "            # nn.Dropout(0.2),\n",
        "            nn.LeakyReLU(),\n",
        "            nn.MaxPool2d(kernel_size=2, stride=2),\n",
        "\n",
        "            nn.Conv2d(64, 128, kernel_size=5),\n",
        "\n",
        "            nn.Flatten(), \n",
        "            nn.Linear(128, 128),\n",
        "            nn.Dropout(0.4),\n",
        "            nn.LeakyReLU(),\n",
        "            nn.Linear(128, 2),\n",
        "        )\n",
        "        \n",
        "    def forward(self, xb):\n",
        "        return self.network(xb)\n",
        "\n",
        "model1 = LeNet()\n",
        "model1 = model1.to(device)\n",
        "model1"
      ],
      "execution_count": null,
      "outputs": [
        {
          "output_type": "execute_result",
          "data": {
            "text/plain": [
              "LeNet(\n",
              "  (network): Sequential(\n",
              "    (0): Conv2d(2, 32, kernel_size=(5, 5), stride=(1, 1))\n",
              "    (1): BatchNorm2d(32, eps=1e-05, momentum=0.1, affine=True, track_running_stats=True)\n",
              "    (2): LeakyReLU(negative_slope=0.01)\n",
              "    (3): MaxPool2d(kernel_size=2, stride=2, padding=0, dilation=1, ceil_mode=False)\n",
              "    (4): Conv2d(32, 64, kernel_size=(5, 5), stride=(1, 1))\n",
              "    (5): BatchNorm2d(64, eps=1e-05, momentum=0.1, affine=True, track_running_stats=True)\n",
              "    (6): LeakyReLU(negative_slope=0.01)\n",
              "    (7): MaxPool2d(kernel_size=2, stride=2, padding=0, dilation=1, ceil_mode=False)\n",
              "    (8): Conv2d(64, 128, kernel_size=(5, 5), stride=(1, 1))\n",
              "    (9): Flatten()\n",
              "    (10): Linear(in_features=128, out_features=128, bias=True)\n",
              "    (11): Dropout(p=0.4, inplace=False)\n",
              "    (12): LeakyReLU(negative_slope=0.01)\n",
              "    (13): Linear(in_features=128, out_features=2, bias=True)\n",
              "  )\n",
              ")"
            ]
          },
          "metadata": {
            "tags": []
          },
          "execution_count": 15
        }
      ]
    },
    {
      "cell_type": "code",
      "metadata": {
        "id": "oqY2ewynZhDP",
        "colab": {
          "base_uri": "https://localhost:8080/"
        },
        "outputId": "daf700e7-00ae-43d6-854e-bcd9ccabfb15"
      },
      "source": [
        "from torchsummary import summary\n",
        "\n",
        "summary(model1, (2,32,32))"
      ],
      "execution_count": null,
      "outputs": [
        {
          "output_type": "stream",
          "text": [
            "----------------------------------------------------------------\n",
            "        Layer (type)               Output Shape         Param #\n",
            "================================================================\n",
            "            Conv2d-1           [-1, 32, 28, 28]           1,632\n",
            "       BatchNorm2d-2           [-1, 32, 28, 28]              64\n",
            "         LeakyReLU-3           [-1, 32, 28, 28]               0\n",
            "         MaxPool2d-4           [-1, 32, 14, 14]               0\n",
            "            Conv2d-5           [-1, 64, 10, 10]          51,264\n",
            "       BatchNorm2d-6           [-1, 64, 10, 10]             128\n",
            "         LeakyReLU-7           [-1, 64, 10, 10]               0\n",
            "         MaxPool2d-8             [-1, 64, 5, 5]               0\n",
            "            Conv2d-9            [-1, 128, 1, 1]         204,928\n",
            "          Flatten-10                  [-1, 128]               0\n",
            "           Linear-11                  [-1, 128]          16,512\n",
            "          Dropout-12                  [-1, 128]               0\n",
            "        LeakyReLU-13                  [-1, 128]               0\n",
            "           Linear-14                    [-1, 2]             258\n",
            "================================================================\n",
            "Total params: 274,786\n",
            "Trainable params: 274,786\n",
            "Non-trainable params: 0\n",
            "----------------------------------------------------------------\n",
            "Input size (MB): 0.01\n",
            "Forward/backward pass size (MB): 0.79\n",
            "Params size (MB): 1.05\n",
            "Estimated Total Size (MB): 1.84\n",
            "----------------------------------------------------------------\n"
          ],
          "name": "stdout"
        }
      ]
    },
    {
      "cell_type": "markdown",
      "metadata": {
        "id": "uCQrlCs-1rFr"
      },
      "source": [
        "# Evalutaion functions"
      ]
    },
    {
      "cell_type": "code",
      "metadata": {
        "id": "o8xLaltlTlYl"
      },
      "source": [
        "def accuracy(outputs, labels):\n",
        "    _, preds = torch.max(outputs, dim=1)\n",
        "    return torch.tensor(torch.sum(preds==labels).item()/len(preds))\n",
        "\n",
        "def evaluate(model, val_dl):\n",
        "    model.eval()\n",
        "    val_acc, val_loss = [], []\n",
        "    for batch in val_dl:\n",
        "        img, labels = batch\n",
        "        # img = img.to(device)\n",
        "        # labels = labels.to(device)\n",
        "        with torch.no_grad():\n",
        "            out = model(img)\n",
        "            loss = F.cross_entropy(out, labels.long())\n",
        "            acc = accuracy(out, labels)\n",
        "            val_loss.append(loss.detach())\n",
        "            val_acc.append(acc)\n",
        "    return sum(val_loss)/len(val_loss), sum(val_acc)/len(val_acc)\n",
        "\n",
        "\n",
        "\n",
        "def fit(model, epochs, train_dl, validation_dl, lr=1e-3):\n",
        "\n",
        "    optimizer= torch.optim.Adam(model.parameters(), lr=lr, weight_decay=1e-5)\n",
        "    scheduler = torch.optim.lr_scheduler.StepLR(optimizer, step_size=40, gamma=0.1)\n",
        "    \n",
        "    print(\"Start of training\")\n",
        "    train_acc, train_loss, val_acc, val_loss= [], [], [], []\n",
        "\n",
        "    for epoch in range(epochs):\n",
        "        \n",
        "        epoch_loss, epoch_acc = [], []\n",
        "\n",
        "        for batch in train_dl:\n",
        "            model.train()\n",
        "            img, labels = batch\n",
        "            # img = img.to(device)\n",
        "            # labels = labels.to(device)\n",
        "            out = model(img)\n",
        "            loss = F.cross_entropy(out, labels.long())\n",
        "            acc = accuracy(out, labels)\n",
        "            loss.backward()\n",
        "            optimizer.step()\n",
        "            optimizer.zero_grad()\n",
        "            epoch_loss.append(loss)\n",
        "            epoch_acc.append(acc)\n",
        "            \n",
        "        \n",
        "        train_loss.append(sum(epoch_loss)/len(epoch_loss))\n",
        "        train_acc.append(sum(epoch_acc)/len(epoch_acc))\n",
        "\n",
        "        vald_loss, vald_acc  = evaluate(model, val_dl)\n",
        "\n",
        "        val_acc.append(vald_acc)\n",
        "        val_loss.append(vald_loss)\n",
        "\n",
        "        scheduler.step()\n",
        "\n",
        "        print(f'Epoch: {epoch+1}/{epochs} -- Train Loss: {sum(epoch_loss)/len(epoch_loss)} -- Train Acc: {sum(epoch_acc)/len(epoch_acc)} -- Val Loss: {vald_loss} -- Val Acc: {vald_acc}') \n",
        "    \n",
        "    return {\"train_loss\": train_loss , \"train_acc\" : train_acc, \"val_loss\" : val_loss, \"val_acc\": val_acc}"
      ],
      "execution_count": null,
      "outputs": []
    },
    {
      "cell_type": "markdown",
      "metadata": {
        "id": "MWFc4ZC71uRz"
      },
      "source": [
        "# Training phase"
      ]
    },
    {
      "cell_type": "code",
      "metadata": {
        "id": "03nfPfJJsNoH",
        "colab": {
          "base_uri": "https://localhost:8080/"
        },
        "outputId": "750ec1e6-c627-4c69-e33d-800dbfdc86f8"
      },
      "source": [
        "# Before training\n",
        "l, a = evaluate(model1, train_dl)\n",
        "print(f\"Training loss = {l}, Training accuracy = {a}\")\n",
        "print(\"========================================\")\n",
        "l, a = evaluate(model1, val_dl)\n",
        "print(f\"Validation loss = {l}, Validation accuracy = {a}\")\n",
        "print(\"========================================\")\n",
        "l, a = evaluate(model1, test_dl)\n",
        "print(f\"Test loss = {l}, Test accuracy = {a}\")"
      ],
      "execution_count": null,
      "outputs": [
        {
          "output_type": "stream",
          "text": [
            "Training loss = 0.6941447854042053, Training accuracy = 0.5004165768623352\n",
            "========================================\n",
            "Validation loss = 0.6940932273864746, Validation accuracy = 0.5009200572967529\n",
            "========================================\n",
            "Test loss = 0.6951442956924438, Test accuracy = 0.4895934760570526\n"
          ],
          "name": "stdout"
        }
      ]
    },
    {
      "cell_type": "code",
      "metadata": {
        "id": "iSBJyO0S8hHb"
      },
      "source": [
        "# model1 = torch.load(\"/content/entire_model.pth\")"
      ],
      "execution_count": null,
      "outputs": []
    },
    {
      "cell_type": "code",
      "metadata": {
        "id": "nYPJcbPMFJt3"
      },
      "source": [
        "# model1.load_state_dict(torch.load(\"/content/stdict.pth\"))\n",
        "# model1.eval()"
      ],
      "execution_count": null,
      "outputs": []
    },
    {
      "cell_type": "code",
      "metadata": {
        "id": "wthY2EMvTlbJ",
        "colab": {
          "base_uri": "https://localhost:8080/"
        },
        "outputId": "c7dc77fa-4568-4ddc-eb0b-f55f0ffc8694"
      },
      "source": [
        "# Training cell, do not run if using pre-trained model\n",
        "\n",
        "import datetime\n",
        "\n",
        "start = datetime.datetime.now()\n",
        "\n",
        "history = fit(model1, 50, train_dl, val_dl);\n",
        "\n",
        "print(datetime.datetime.now()-start)"
      ],
      "execution_count": null,
      "outputs": [
        {
          "output_type": "stream",
          "text": [
            "Start of training\n",
            "Epoch: 1/50 -- Train Loss: 0.6724432110786438 -- Train Acc: 0.584141731262207 -- Val Loss: 0.6596486568450928 -- Val Acc: 0.5995191335678101\n",
            "Epoch: 2/50 -- Train Loss: 0.6611829996109009 -- Train Acc: 0.6030450463294983 -- Val Loss: 0.6559586524963379 -- Val Acc: 0.6087480187416077\n",
            "Epoch: 3/50 -- Train Loss: 0.6576270461082458 -- Train Acc: 0.6086412072181702 -- Val Loss: 0.6579647660255432 -- Val Acc: 0.6089739799499512\n",
            "Epoch: 4/50 -- Train Loss: 0.6547133326530457 -- Train Acc: 0.6127777695655823 -- Val Loss: 0.6510553956031799 -- Val Acc: 0.6166983842849731\n",
            "Epoch: 5/50 -- Train Loss: 0.6502859592437744 -- Train Acc: 0.6204038858413696 -- Val Loss: 0.6475688219070435 -- Val Acc: 0.6242915987968445\n",
            "Epoch: 6/50 -- Train Loss: 0.6463536024093628 -- Train Acc: 0.6269891262054443 -- Val Loss: 0.6452093124389648 -- Val Acc: 0.630179226398468\n",
            "Epoch: 7/50 -- Train Loss: 0.6415596008300781 -- Train Acc: 0.6345323324203491 -- Val Loss: 0.6384236216545105 -- Val Acc: 0.6353378295898438\n",
            "Epoch: 8/50 -- Train Loss: 0.6367605328559875 -- Train Acc: 0.6409851908683777 -- Val Loss: 0.6345823407173157 -- Val Acc: 0.6472024321556091\n",
            "Epoch: 9/50 -- Train Loss: 0.6317414045333862 -- Train Acc: 0.648166298866272 -- Val Loss: 0.6309247016906738 -- Val Acc: 0.6495658755302429\n",
            "Epoch: 10/50 -- Train Loss: 0.6271188855171204 -- Train Acc: 0.6537588834762573 -- Val Loss: 0.6249067783355713 -- Val Acc: 0.6571194529533386\n",
            "Epoch: 11/50 -- Train Loss: 0.6227009296417236 -- Train Acc: 0.6593270301818848 -- Val Loss: 0.6237229108810425 -- Val Acc: 0.6581820249557495\n",
            "Epoch: 12/50 -- Train Loss: 0.6184966564178467 -- Train Acc: 0.6647158861160278 -- Val Loss: 0.6224672794342041 -- Val Acc: 0.6620802879333496\n",
            "Epoch: 13/50 -- Train Loss: 0.6158720850944519 -- Train Acc: 0.6663623452186584 -- Val Loss: 0.6172231435775757 -- Val Acc: 0.6681420803070068\n",
            "Epoch: 14/50 -- Train Loss: 0.6138022541999817 -- Train Acc: 0.6693629026412964 -- Val Loss: 0.6145404577255249 -- Val Acc: 0.6694474816322327\n",
            "Epoch: 15/50 -- Train Loss: 0.6103706955909729 -- Train Acc: 0.6729105114936829 -- Val Loss: 0.6128329634666443 -- Val Acc: 0.6734781265258789\n",
            "Epoch: 16/50 -- Train Loss: 0.6091815829277039 -- Train Acc: 0.6737751960754395 -- Val Loss: 0.6135990023612976 -- Val Acc: 0.675378143787384\n",
            "Epoch: 17/50 -- Train Loss: 0.606802761554718 -- Train Acc: 0.6769835948944092 -- Val Loss: 0.61698317527771 -- Val Acc: 0.6625550389289856\n",
            "Epoch: 18/50 -- Train Loss: 0.6048575639724731 -- Train Acc: 0.6788603067398071 -- Val Loss: 0.6144046783447266 -- Val Acc: 0.6700850129127502\n",
            "Epoch: 19/50 -- Train Loss: 0.6035282015800476 -- Train Acc: 0.6805127263069153 -- Val Loss: 0.6117717623710632 -- Val Acc: 0.6715646386146545\n",
            "Epoch: 20/50 -- Train Loss: 0.601442277431488 -- Train Acc: 0.682086706161499 -- Val Loss: 0.6074608564376831 -- Val Acc: 0.6818320751190186\n",
            "Epoch: 21/50 -- Train Loss: 0.6006016135215759 -- Train Acc: 0.682698130607605 -- Val Loss: 0.6105782389640808 -- Val Acc: 0.6771752834320068\n",
            "Epoch: 22/50 -- Train Loss: 0.5990341305732727 -- Train Acc: 0.6845268607139587 -- Val Loss: 0.6051602363586426 -- Val Acc: 0.6782795786857605\n",
            "Epoch: 23/50 -- Train Loss: 0.597311794757843 -- Train Acc: 0.6861453056335449 -- Val Loss: 0.6045511364936829 -- Val Acc: 0.6838066577911377\n",
            "Epoch: 24/50 -- Train Loss: 0.5958529114723206 -- Train Acc: 0.687627375125885 -- Val Loss: 0.6060214638710022 -- Val Acc: 0.680692732334137\n",
            "Epoch: 25/50 -- Train Loss: 0.595122218132019 -- Train Acc: 0.6879785060882568 -- Val Loss: 0.6068406105041504 -- Val Acc: 0.6773696541786194\n",
            "Epoch: 26/50 -- Train Loss: 0.5936585068702698 -- Train Acc: 0.6888027191162109 -- Val Loss: 0.6031193137168884 -- Val Acc: 0.6825215220451355\n",
            "Epoch: 27/50 -- Train Loss: 0.5926010012626648 -- Train Acc: 0.6904407143592834 -- Val Loss: 0.6077998876571655 -- Val Acc: 0.6732158660888672\n",
            "Epoch: 28/50 -- Train Loss: 0.5913138389587402 -- Train Acc: 0.6913692355155945 -- Val Loss: 0.6025780439376831 -- Val Acc: 0.6844611167907715\n",
            "Epoch: 29/50 -- Train Loss: 0.5903227925300598 -- Train Acc: 0.6917394399642944 -- Val Loss: 0.6043975949287415 -- Val Acc: 0.6820445656776428\n",
            "Epoch: 30/50 -- Train Loss: 0.5885316729545593 -- Train Acc: 0.6938014626502991 -- Val Loss: 0.6072146892547607 -- Val Acc: 0.6809832453727722\n",
            "Epoch: 31/50 -- Train Loss: 0.5878385901451111 -- Train Acc: 0.6944572925567627 -- Val Loss: 0.6039770841598511 -- Val Acc: 0.6847583651542664\n",
            "Epoch: 32/50 -- Train Loss: 0.5866654515266418 -- Train Acc: 0.6956866979598999 -- Val Loss: 0.6077497005462646 -- Val Acc: 0.6856885552406311\n",
            "Epoch: 33/50 -- Train Loss: 0.5851016044616699 -- Train Acc: 0.6970987319946289 -- Val Loss: 0.613287091255188 -- Val Acc: 0.6779540181159973\n",
            "Epoch: 34/50 -- Train Loss: 0.5840184092521667 -- Train Acc: 0.6967756152153015 -- Val Loss: 0.605427086353302 -- Val Acc: 0.6843662261962891\n",
            "Epoch: 35/50 -- Train Loss: 0.5838789939880371 -- Train Acc: 0.6976497769355774 -- Val Loss: 0.601047158241272 -- Val Acc: 0.6884419918060303\n",
            "Epoch: 36/50 -- Train Loss: 0.582137405872345 -- Train Acc: 0.699142336845398 -- Val Loss: 0.6013003587722778 -- Val Acc: 0.6895994544029236\n",
            "Epoch: 37/50 -- Train Loss: 0.5810798406600952 -- Train Acc: 0.7008611559867859 -- Val Loss: 0.6025645732879639 -- Val Acc: 0.6823203563690186\n",
            "Epoch: 38/50 -- Train Loss: 0.5794220566749573 -- Train Acc: 0.700977087020874 -- Val Loss: 0.6243003606796265 -- Val Acc: 0.6780502200126648\n",
            "Epoch: 39/50 -- Train Loss: 0.5790125131607056 -- Train Acc: 0.7017473578453064 -- Val Loss: 0.6068068146705627 -- Val Acc: 0.6808057427406311\n",
            "Epoch: 40/50 -- Train Loss: 0.5778422355651855 -- Train Acc: 0.7028372883796692 -- Val Loss: 0.6081234812736511 -- Val Acc: 0.6806294918060303\n",
            "Epoch: 41/50 -- Train Loss: 0.5600020289421082 -- Train Acc: 0.7173892855644226 -- Val Loss: 0.599578320980072 -- Val Acc: 0.6923482418060303\n",
            "Epoch: 42/50 -- Train Loss: 0.5550516247749329 -- Train Acc: 0.7211187481880188 -- Val Loss: 0.6005195379257202 -- Val Acc: 0.6921922564506531\n",
            "Epoch: 43/50 -- Train Loss: 0.5532214045524597 -- Train Acc: 0.7228485941886902 -- Val Loss: 0.6009855270385742 -- Val Acc: 0.6913366913795471\n",
            "Epoch: 44/50 -- Train Loss: 0.5517774820327759 -- Train Acc: 0.7240933775901794 -- Val Loss: 0.6052628755569458 -- Val Acc: 0.6868131160736084\n",
            "Epoch: 45/50 -- Train Loss: 0.5510497093200684 -- Train Acc: 0.7247562408447266 -- Val Loss: 0.6065599918365479 -- Val Acc: 0.6884803771972656\n",
            "Epoch: 46/50 -- Train Loss: 0.5498994588851929 -- Train Acc: 0.7253721356391907 -- Val Loss: 0.6052386164665222 -- Val Acc: 0.6908087730407715\n",
            "Epoch: 47/50 -- Train Loss: 0.5491194725036621 -- Train Acc: 0.7262113690376282 -- Val Loss: 0.6047734618186951 -- Val Acc: 0.6904730796813965\n",
            "Epoch: 48/50 -- Train Loss: 0.5482586622238159 -- Train Acc: 0.7270984649658203 -- Val Loss: 0.6096742153167725 -- Val Acc: 0.6907374858856201\n",
            "Epoch: 49/50 -- Train Loss: 0.5479382872581482 -- Train Acc: 0.727522611618042 -- Val Loss: 0.6085876822471619 -- Val Acc: 0.6894185543060303\n",
            "Epoch: 50/50 -- Train Loss: 0.5468651056289673 -- Train Acc: 0.7283163070678711 -- Val Loss: 0.6085838079452515 -- Val Acc: 0.6905081272125244\n",
            "0:13:05.223333\n"
          ],
          "name": "stdout"
        }
      ]
    },
    {
      "cell_type": "code",
      "metadata": {
        "id": "xHt1nrTETle2",
        "colab": {
          "base_uri": "https://localhost:8080/"
        },
        "outputId": "257a839f-b5f4-4660-facb-4acec1e85541"
      },
      "source": [
        "# After training\n",
        "model1.eval()\n",
        "l, a = evaluate(model1, train_dl)\n",
        "print(f\"Training loss = {l}, Training accuracy = {a}\")\n",
        "print(\"========================================\")\n",
        "l, a = evaluate(model1, val_dl)\n",
        "print(f\"Validation loss = {l}, Validation accuracy = {a}\")\n",
        "print(\"========================================\")\n",
        "l, a = evaluate(model1, test_dl)\n",
        "print(f\"Test loss = {l}, Test accuracy = {a}\")"
      ],
      "execution_count": null,
      "outputs": [
        {
          "output_type": "stream",
          "text": [
            "Training loss = 0.5362863540649414, Training accuracy = 0.735236644744873\n",
            "========================================\n",
            "Validation loss = 0.6067431569099426, Validation accuracy = 0.6898355484008789\n",
            "========================================\n",
            "Test loss = 0.6198243498802185, Test accuracy = 0.6759229302406311\n"
          ],
          "name": "stdout"
        }
      ]
    },
    {
      "cell_type": "markdown",
      "metadata": {
        "id": "XlRP1bjE1y_z"
      },
      "source": [
        "# Evaluation Phase"
      ]
    },
    {
      "cell_type": "code",
      "metadata": {
        "id": "kNFXIkWq7kjG",
        "colab": {
          "base_uri": "https://localhost:8080/"
        },
        "outputId": "ff48d14d-9782-4c6d-cb41-6ec9b0d0e979"
      },
      "source": [
        "from sklearn.metrics import roc_curve, auc\n",
        "model1.eval()\n",
        "# Compute ROC curve and ROC area on validation set\n",
        "\n",
        "for batch in val_dl:\n",
        "    input, label = batch\n",
        "    break\n",
        "\n",
        "target = label.cpu().numpy()\n",
        "\n",
        "curve_out = model1(input)\n",
        "_, pred = torch.max(curve_out, dim=1)\n",
        "\n",
        "y_score = pred.cpu().numpy()\n",
        "\n",
        "fpr, tpr, _ = roc_curve(target, y_score)\n",
        "roc_auc= auc(fpr, tpr)\n",
        "\n",
        "print(f'Val roc_auc = {roc_auc}')\n",
        "\n",
        "# Compute ROC curve and ROC area on test set\n",
        "\n",
        "for batch in test_dl:\n",
        "    input, label = batch\n",
        "    break\n",
        "    \n",
        "target = label.cpu().numpy()\n",
        "\n",
        "curve_out = model1(input)\n",
        "_, pred = torch.max(curve_out, dim=1)\n",
        "\n",
        "y_score = pred.cpu().numpy()\n",
        "\n",
        "fpr, tpr, _ = roc_curve(target, y_score)\n",
        "roc_auc= auc(fpr, tpr)\n",
        "print(f'Test roc_auc = {roc_auc}')"
      ],
      "execution_count": null,
      "outputs": [
        {
          "output_type": "stream",
          "text": [
            "Val roc_auc = 0.6775800168054389\n",
            "Test roc_auc = 0.664751330624392\n"
          ],
          "name": "stdout"
        }
      ]
    },
    {
      "cell_type": "code",
      "metadata": {
        "id": "cl28mqUn-Wkr",
        "colab": {
          "base_uri": "https://localhost:8080/",
          "height": 295
        },
        "outputId": "987b300a-cee9-4c00-bb58-d1791af36aaa"
      },
      "source": [
        "import matplotlib.pyplot as plt\n",
        "%matplotlib inline\n",
        "\n",
        "plt.figure()\n",
        "lw = 2\n",
        "plt.plot(fpr, tpr, label='Model 1 (ROC-AUC = {:.3f})'.format(roc_auc))\n",
        "plt.plot([0, 1], [0, 1], color='navy', lw=lw, linestyle='--')\n",
        "plt.xlim([0.0, 1.0])\n",
        "plt.ylim([0.0, 1.05])\n",
        "plt.xlabel('False Positive Rate')\n",
        "plt.ylabel('True Positive Rate')\n",
        "plt.title('Receiver operating characteristic')\n",
        "plt.legend(loc=\"lower right\")\n",
        "plt.show()\n",
        "\n",
        "# plt.plot([0, 1], [0, 1], 'k--')\n",
        "# #plt.legend(loc=2, prop={'size': 15})\n",
        "# plt.plot(fpr, tpr, label='Model 1 (ROC-AUC = {:.3f})'.format(roc_auc))\n",
        "# plt.xlabel('False positive rate')\n",
        "# plt.ylabel('True positive rate')\n",
        "# plt.title('ROC curve')\n",
        "# plt.legend(loc='best')\n",
        "# plt.show()"
      ],
      "execution_count": null,
      "outputs": [
        {
          "output_type": "display_data",
          "data": {
            "image/png": "[encoded data removed]",
            "text/plain": [
              "<Figure size 432x288 with 1 Axes>"
            ]
          },
          "metadata": {
            "tags": [],
            "needs_background": "light"
          }
        }
      ]
    },
    {
      "cell_type": "code",
      "metadata": {
        "id": "OOdq3T3Pit1B",
        "colab": {
          "base_uri": "https://localhost:8080/",
          "height": 295
        },
        "outputId": "c8e374a2-6f70-4f2f-c25f-09197122ac8c"
      },
      "source": [
        "n_epochs = len(history[\"train_loss\"])\n",
        "\n",
        "plt.figure()\n",
        "plt.plot(range(1,n_epochs+1), history[\"train_loss\"], label=\"Training loss\", color = \"red\", lw=2)\n",
        "plt.plot(range(1,n_epochs+1), history[\"train_acc\"], label=\"Training accuracy\", color = \"navy\", lw=2)\n",
        "plt.xlabel('Epoch')\n",
        "plt.ylabel('')\n",
        "plt.title('Training accuracy and loss over epochs')\n",
        "plt.legend(loc=\"lower right\")\n",
        "plt.show()"
      ],
      "execution_count": null,
      "outputs": [
        {
          "output_type": "display_data",
          "data": {
            "image/png": "[encoded data removed]",
            "text/plain": [
              "<Figure size 432x288 with 1 Axes>"
            ]
          },
          "metadata": {
            "tags": [],
            "needs_background": "light"
          }
        }
      ]
    },
    {
      "cell_type": "code",
      "metadata": {
        "id": "kwD7Bn-jj8Qv",
        "colab": {
          "base_uri": "https://localhost:8080/",
          "height": 295
        },
        "outputId": "a2651afe-2af4-47c4-daf6-0f22303d70a8"
      },
      "source": [
        "plt.figure()\n",
        "plt.plot(range(1,n_epochs+1), history[\"val_loss\"], label=\"Val loss\", color = \"red\", lw=2)\n",
        "plt.plot(range(1,n_epochs+1), history[\"val_acc\"], label=\"Val accuracy\", color = \"navy\", lw=2)\n",
        "plt.xlabel('Epoch')\n",
        "plt.ylabel('')\n",
        "plt.title('Validation accuracy and loss over epochs')\n",
        "plt.legend(loc=\"lower right\")\n",
        "plt.show()"
      ],
      "execution_count": null,
      "outputs": [
        {
          "output_type": "display_data",
          "data": {
            "image/png": "[encoded data removed]",
            "text/plain": [
              "<Figure size 432x288 with 1 Axes>"
            ]
          },
          "metadata": {
            "tags": [],
            "needs_background": "light"
          }
        }
      ]
    },
    {
      "cell_type": "code",
      "metadata": {
        "id": "toHq6U0J-gi6"
      },
      "source": [
        "model1.eval()\n",
        "torch.save(model1.state_dict(), \"/content/stdict.pth\")"
      ],
      "execution_count": null,
      "outputs": []
    },
    {
      "cell_type": "code",
      "metadata": {
        "id": "gTybPiRn-sOS"
      },
      "source": [
        "model1.eval()\n",
        "torch.save(model1, \"/content/entire_model.pth\")"
      ],
      "execution_count": null,
      "outputs": []
    },
    {
      "cell_type": "code",
      "metadata": {
        "id": "5wQHV562ENj7"
      },
      "source": [
        ""
      ],
      "execution_count": null,
      "outputs": []
    }
  ]
}